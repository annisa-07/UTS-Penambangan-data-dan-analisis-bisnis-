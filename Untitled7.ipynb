{
  "nbformat": 4,
  "nbformat_minor": 0,
  "metadata": {
    "colab": {
      "provenance": [],
      "history_visible": true
    },
    "kernelspec": {
      "name": "python3",
      "display_name": "Python 3"
    },
    "language_info": {
      "name": "python"
    }
  },
  "cells": [
    {
      "cell_type": "code",
      "source": [
        "# === 1. Eksplorasi Awal ===\n",
        "import pandas as pd\n",
        "import matplotlib.pyplot as plt\n",
        "import seaborn as sns\n",
        "\n",
        "# Load data\n",
        "df = pd.read_csv('/content/Titanic-Dataset.csv')"
      ],
      "metadata": {
        "id": "mkElpwHZfiVE"
      },
      "execution_count": 31,
      "outputs": []
    },
    {
      "cell_type": "markdown",
      "source": [
        "**1.a. Berapa jumlah total penumpang dalam data?**\n",
        "\n",
        " Jumlah total penumpang dalam data: 891"
      ],
      "metadata": {
        "id": "xAudU11wgQeu"
      }
    },
    {
      "cell_type": "code",
      "execution_count": 11,
      "metadata": {
        "colab": {
          "base_uri": "https://localhost:8080/"
        },
        "id": "GAhJGeluWmkP",
        "outputId": "f650e935-fa46-4ca9-bdc7-dcde7c7532b3"
      },
      "outputs": [
        {
          "output_type": "stream",
          "name": "stdout",
          "text": [
            "1.a. Jumlah total penumpang dalam data: 891\n",
            "------------------------------\n"
          ]
        }
      ],
      "source": [
        "\n",
        "\n",
        "# 1.a. Berapa jumlah total penumpang dalam data?\n",
        "total_penumpang = len(df)\n",
        "# atau bisa juga: total_penumpang = df.shape[0]\n",
        "print(f\"1.a. Jumlah total penumpang dalam data: {total_penumpang}\")\n",
        "print(\"-\" * 30) # Pemisah\n",
        "\n"
      ]
    },
    {
      "cell_type": "markdown",
      "source": [
        "**1.b. Berapa jumlah penumpang yang selamat dan tidak selamat?Tampilkan dalam bentuk tabel dan grafik.**\n",
        "- Tidak Selamat  :  549\n",
        "- Selamat        :  342"
      ],
      "metadata": {
        "id": "4F5QtUDJgjWY"
      }
    },
    {
      "cell_type": "code",
      "source": [
        "# 1.b. Berapa jumlah penumpang yang selamat dan tidak selamat?\n",
        "#     Tampilkan dalam bentuk tabel dan grafik.\n",
        "\n",
        "# Kolom 'Survived': 0 = Tidak Selamat, 1 = Selamat\n",
        "survival_counts = df['Survived'].value_counts() # Changed 'survived' to 'Survived'\n",
        "\n",
        "# Membuat label yang lebih deskriptif untuk tampilan\n",
        "survival_labels = {0: 'Tidak Selamat', 1: 'Selamat'}\n",
        "survival_counts_labeled = survival_counts.rename(index=survival_labels)\n",
        "\n",
        "print(\"1.b. Jumlah penumpang yang selamat dan tidak selamat:\")\n",
        "\n",
        "# Menampilkan dalam bentuk \"tabel\" (menggunakan output Series Pandas)\n",
        "print(\"\\n   Tampilan Tabel:\")\n",
        "print(survival_counts_labeled)\n",
        "print(\"-\" * 20) # Pemisah kecil\n",
        "\n",
        "# Menampilkan dalam bentuk grafik (bar chart)\n",
        "print(\"\\n   Tampilan Grafik:\")\n",
        "plt.figure(figsize=(7, 5)) # Mengatur ukuran gambar agar lebih jelas\n",
        "\n",
        "# Membuat bar chart menggunakan Seaborn\n",
        "ax = sns.countplot(x='Survived', data=df, palette=['#FF6347', '#90EE90']) # Warna: Merah Tomat, Hijau Muda # Changed 'survived' to 'Survived'\n",
        "\n",
        "\n",
        "# Mengatur label pada sumbu x agar lebih deskriptif\n",
        "ax.set_xticklabels([survival_labels[0], survival_labels[1]])\n",
        "\n",
        "# Menambahkan judul dan label sumbu\n",
        "plt.title('Distribusi Penumpang Selamat dan Tidak Selamat', fontsize=14)\n",
        "plt.xlabel('Status Keselamatan', fontsize=12)\n",
        "plt.ylabel('Jumlah Penumpang', fontsize=12)\n",
        "\n",
        "# Menambahkan angka jumlah di atas setiap bar\n",
        "for container in ax.containers:\n",
        "    ax.bar_label(container)\n",
        "\n",
        "# Menampilkan grafik\n",
        "plt.tight_layout() # Menyesuaikan layout agar tidak tumpang tindih\n",
        "plt.show()"
      ],
      "metadata": {
        "colab": {
          "base_uri": "https://localhost:8080/",
          "height": 779
        },
        "id": "lVCdyxB_Z-_i",
        "outputId": "0316abeb-eb27-4f83-b3eb-87dcb4f2477f"
      },
      "execution_count": 13,
      "outputs": [
        {
          "output_type": "stream",
          "name": "stdout",
          "text": [
            "1.b. Jumlah penumpang yang selamat dan tidak selamat:\n",
            "\n",
            "   Tampilan Tabel:\n",
            "Survived\n",
            "Tidak Selamat    549\n",
            "Selamat          342\n",
            "Name: count, dtype: int64\n",
            "--------------------\n",
            "\n",
            "   Tampilan Grafik:\n"
          ]
        },
        {
          "output_type": "stream",
          "name": "stderr",
          "text": [
            "<ipython-input-13-dc9baf77dacf>:23: FutureWarning: \n",
            "\n",
            "Passing `palette` without assigning `hue` is deprecated and will be removed in v0.14.0. Assign the `x` variable to `hue` and set `legend=False` for the same effect.\n",
            "\n",
            "  ax = sns.countplot(x='Survived', data=df, palette=['#FF6347', '#90EE90']) # Warna: Merah Tomat, Hijau Muda # Changed 'survived' to 'Survived'\n",
            "<ipython-input-13-dc9baf77dacf>:27: UserWarning: set_ticklabels() should only be used with a fixed number of ticks, i.e. after set_ticks() or using a FixedLocator.\n",
            "  ax.set_xticklabels([survival_labels[0], survival_labels[1]])\n"
          ]
        },
        {
          "output_type": "display_data",
          "data": {
            "text/plain": [
              "<Figure size 700x500 with 1 Axes>"
            ],
            "image/png": "[encoded data removed]"
          },
          "metadata": {}
        }
      ]
    },
    {
      "cell_type": "markdown",
      "source": [
        "**1 c. Berapa rata-rata umur penumpang? dan siapa penumpang termuda dan ter tua?**\n",
        "- Rata-rata umur penumpang adalah sekitar 29.70 tahun\n",
        "\n",
        "- Penumpang termuda adalah bayi bernama Thomas, Master. Assad Alexander, berusia 0.42 tahun\n",
        "\n",
        "- Penumpang tertua adalah Barkworth, Mr. Algernon Henry Wilson, berusia 80.0 tahun\n",
        "\n"
      ],
      "metadata": {
        "id": "DtjyI80GgzEQ"
      }
    },
    {
      "cell_type": "code",
      "source": [
        "df = pd.read_csv(\"Titanic-Dataset.csv\")\n"
      ],
      "metadata": {
        "id": "kKGITNvrv5Oq"
      },
      "execution_count": null,
      "outputs": []
    },
    {
      "cell_type": "code",
      "source": [
        "rata_umur = df['Age'].mean()\n"
      ],
      "metadata": {
        "id": "oRp9Emwlv8N9"
      },
      "execution_count": null,
      "outputs": []
    },
    {
      "cell_type": "code",
      "source": [
        "# 1.c Rata-rata Umur, Termuda, Tertua\n",
        "# Rata-rata umur penumpang\n",
        "mean_age = df['Age'].mean()\n",
        "\n",
        "# Penumpang termuda dan tertua\n",
        "youngest_passenger = df[df['Age'] == df['Age'].min()]\n",
        "oldest_passenger = df[df['Age'] == df['Age'].max()]\n",
        "\n",
        "print(\"Rata-rata umur penumpang:\", round(mean_age, 2))\n",
        "print(\"\\nPenumpang termuda:\")\n",
        "print(youngest_passenger[['Name', 'Age', 'Sex', 'Pclass']])\n",
        "\n",
        "print(\"\\nPenumpang tertua:\")\n",
        "print(oldest_passenger[['Name', 'Age', 'Sex', 'Pclass']])\n",
        "\n",
        "\n"
      ],
      "metadata": {
        "colab": {
          "base_uri": "https://localhost:8080/"
        },
        "id": "fRcrqGr1ud39",
        "outputId": "70165f58-5192-4690-c8cc-31fe746c2ee8"
      },
      "execution_count": 15,
      "outputs": [
        {
          "output_type": "stream",
          "name": "stdout",
          "text": [
            "Rata-rata umur penumpang: 29.7\n",
            "\n",
            "Penumpang termuda:\n",
            "                                Name   Age   Sex  Pclass\n",
            "803  Thomas, Master. Assad Alexander  0.42  male       3\n",
            "\n",
            "Penumpang tertua:\n",
            "                                     Name   Age   Sex  Pclass\n",
            "630  Barkworth, Mr. Algernon Henry Wilson  80.0  male       1\n"
          ]
        }
      ]
    },
    {
      "cell_type": "markdown",
      "source": [
        "**1 d. Berapa jumlah penumpang berdasarkan jenis kelamin? Siapa yang lebih banyak ? visualisasikan**\n",
        "\n",
        "- Jumlah penumpang yaitu :\n",
        "1. male     : 577 orang\n",
        "2. female   : 314 orang\n",
        "\n",
        "Jenis kelamin laki- laki adalah penumpang yang lebih banyak."
      ],
      "metadata": {
        "id": "kNouRE_Vi8Qh"
      }
    },
    {
      "cell_type": "code",
      "source": [
        "# 1.d Jumlah Penumpang Berdasarkan Jenis Kelamin\n",
        "# Tabel\n",
        "print(df['Sex'].value_counts())\n",
        "\n",
        "# Grafik\n",
        "plt.figure(figsize=(6,4))\n",
        "sns.countplot(data=df, x='Sex', palette='coolwarm')\n",
        "plt.title(\"Jumlah Penumpang Berdasarkan Jenis Kelamin\")\n",
        "plt.xlabel(\"Jenis Kelamin\")\n",
        "plt.ylabel(\"Jumlah\")\n",
        "plt.show()\n"
      ],
      "metadata": {
        "colab": {
          "base_uri": "https://localhost:8080/",
          "height": 586
        },
        "id": "aJDLf15fwWgw",
        "outputId": "e94f5255-5830-4a38-ad60-c1ed54202832"
      },
      "execution_count": null,
      "outputs": [
        {
          "output_type": "stream",
          "name": "stdout",
          "text": [
            "Sex\n",
            "male      577\n",
            "female    314\n",
            "Name: count, dtype: int64\n"
          ]
        },
        {
          "output_type": "stream",
          "name": "stderr",
          "text": [
            "<ipython-input-55-6d4787710c5c>:7: FutureWarning: \n",
            "\n",
            "Passing `palette` without assigning `hue` is deprecated and will be removed in v0.14.0. Assign the `x` variable to `hue` and set `legend=False` for the same effect.\n",
            "\n",
            "  sns.countplot(data=df, x='Sex', palette='coolwarm')\n"
          ]
        },
        {
          "output_type": "display_data",
          "data": {
            "text/plain": [
              "<Figure size 600x400 with 1 Axes>"
            ],
            "image/png": "[encoded data removed]"
          },
          "metadata": {}
        }
      ]
    },
    {
      "cell_type": "markdown",
      "source": [
        "**1 e. tampilkan jumlah penumpang berdasarkan kelas (pelass) dan berapa persen dari tota data yang berada di kelas 1?visualisasikan**\n",
        "\n",
        "Jumlah penumpang berdasarkan kelas tiket (Pclass) adalah sebagai berikut:\n",
        "\n",
        "- Kelas 1: 216 penumpang (sekitar 24.24% dari total penumpang),\n",
        "\n",
        "- Kelas 2: 184 penumpang (sekitar 20.65%),\n",
        "\n",
        "- Kelas 3: 491 penumpang (sekitar 55.11%).\n",
        "\n",
        "Dengan demikian, sebanyak 24.24% dari total penumpang berada di kelas 1."
      ],
      "metadata": {
        "id": "-0omQNZtksiv"
      }
    },
    {
      "cell_type": "code",
      "source": [
        "#  1.e Jumlah & Persen Penumpang Berdasarkan Kelas\n",
        "# Tabel\n",
        "kelas = df['Pclass'].value_counts().sort_index()\n",
        "persen = df['Pclass'].value_counts(normalize=True).sort_index() * 100\n",
        "tabel_kelas = pd.DataFrame({'Jumlah': kelas, 'Persentase (%)': persen})\n",
        "print(tabel_kelas)\n",
        "\n",
        "# Grafik\n",
        "plt.figure(figsize=(6,4))\n",
        "sns.countplot(data=df, x='Pclass', palette='pastel')\n",
        "plt.title(\"Jumlah Penumpang Berdasarkan Kelas Tiket\")\n",
        "plt.xlabel(\"Kelas\")\n",
        "plt.ylabel(\"Jumlah\")\n",
        "plt.xticks([0,1,2], ['1st', '2nd', '3rd'])\n",
        "plt.show()\n"
      ],
      "metadata": {
        "id": "HaO9a3-5xHNA",
        "colab": {
          "base_uri": "https://localhost:8080/",
          "height": 604
        },
        "outputId": "453188dd-16f2-4a81-bc98-bdd781be4615"
      },
      "execution_count": 16,
      "outputs": [
        {
          "output_type": "stream",
          "name": "stdout",
          "text": [
            "        Jumlah  Persentase (%)\n",
            "Pclass                        \n",
            "1          216       24.242424\n",
            "2          184       20.650954\n",
            "3          491       55.106622\n"
          ]
        },
        {
          "output_type": "stream",
          "name": "stderr",
          "text": [
            "<ipython-input-16-8f0800904a96>:10: FutureWarning: \n",
            "\n",
            "Passing `palette` without assigning `hue` is deprecated and will be removed in v0.14.0. Assign the `x` variable to `hue` and set `legend=False` for the same effect.\n",
            "\n",
            "  sns.countplot(data=df, x='Pclass', palette='pastel')\n"
          ]
        },
        {
          "output_type": "display_data",
          "data": {
            "text/plain": [
              "<Figure size 600x400 with 1 Axes>"
            ],
            "image/png": "[encoded data removed]"
          },
          "metadata": {}
        }
      ]
    },
    {
      "cell_type": "markdown",
      "source": [
        "**2 a. Apakah terdapat missing value pada data tersebut?**\n",
        "\n",
        "Ya terdapat mising value pada dataset:\n",
        "Age       177\n",
        "Cabin     687\n",
        "Embarked    2\n"
      ],
      "metadata": {
        "id": "_vk_nJlilOL7"
      }
    },
    {
      "cell_type": "code",
      "source": [
        "# === 2. Preprocessing ===\n",
        "# a. Cek missing value\n",
        "print(\"\\nJumlah missing value per kolom:\")\n",
        "print(df.isnull().sum())"
      ],
      "metadata": {
        "colab": {
          "base_uri": "https://localhost:8080/"
        },
        "id": "nURJZX3OJ8oe",
        "outputId": "5265ee62-096b-4c8a-983c-1c35644b3b25"
      },
      "execution_count": 17,
      "outputs": [
        {
          "output_type": "stream",
          "name": "stdout",
          "text": [
            "\n",
            "Jumlah missing value per kolom:\n",
            "PassengerId      0\n",
            "Survived         0\n",
            "Pclass           0\n",
            "Name             0\n",
            "Sex              0\n",
            "Age            177\n",
            "SibSp            0\n",
            "Parch            0\n",
            "Ticket           0\n",
            "Fare             0\n",
            "Cabin          687\n",
            "Embarked         2\n",
            "dtype: int64\n"
          ]
        }
      ]
    },
    {
      "cell_type": "markdown",
      "source": [
        "2 b.\n",
        "Ya, terdapat missing value pada beberapa kolom, yaitu:\n",
        "\n",
        "- Age\n",
        "- Embarked\n",
        "- cabin\n",
        "\n",
        "Langkah yang saya lakukan untuk menangani missing value tersebut adalah:\n",
        "1. Untuk kolom Age\n",
        "\n",
        "Missing value saya isi menggunakan nilai median dari kolom tersebut, karena nilai umur bersifat numerik dan median tidak terpengaruh oleh outlier."
      ],
      "metadata": {
        "id": "S001wzBwLcpT"
      }
    },
    {
      "cell_type": "code",
      "source": [
        "# Perbaiki pengisian missing value\n",
        "df['Age'] = df['Age'].fillna(df['Age'].median())\n",
        "\n",
        "# Cek apakah masih ada missing value\n",
        "print(\"Jumlah missing value di kolom Age:\", df['Age'].isnull().sum())\n",
        "\n",
        "# Tampilkan beberapa baris untuk dicek\n",
        "df[['Name', 'Age']].head(10)\n",
        "\n"
      ],
      "metadata": {
        "colab": {
          "base_uri": "https://localhost:8080/",
          "height": 380
        },
        "id": "WSCM0eVoKMH0",
        "outputId": "5eedc80e-3664-426a-9a6d-5adc4619a769"
      },
      "execution_count": 18,
      "outputs": [
        {
          "output_type": "stream",
          "name": "stdout",
          "text": [
            "Jumlah missing value di kolom Age: 0\n"
          ]
        },
        {
          "output_type": "execute_result",
          "data": {
            "text/plain": [
              "                                                Name   Age\n",
              "0                            Braund, Mr. Owen Harris  22.0\n",
              "1  Cumings, Mrs. John Bradley (Florence Briggs Th...  38.0\n",
              "2                             Heikkinen, Miss. Laina  26.0\n",
              "3       Futrelle, Mrs. Jacques Heath (Lily May Peel)  35.0\n",
              "4                           Allen, Mr. William Henry  35.0\n",
              "5                                   Moran, Mr. James  28.0\n",
              "6                            McCarthy, Mr. Timothy J  54.0\n",
              "7                     Palsson, Master. Gosta Leonard   2.0\n",
              "8  Johnson, Mrs. Oscar W (Elisabeth Vilhelmina Berg)  27.0\n",
              "9                Nasser, Mrs. Nicholas (Adele Achem)  14.0"
            ],
            "text/html": [
              "\n",
              "  <div id=\"df-33ee548f-e241-4d60-8ee3-89f9b8d90d95\" class=\"colab-df-container\">\n",
              "    <div>\n",
              "<style scoped>\n",
              "    .dataframe tbody tr th:only-of-type {\n",
              "        vertical-align: middle;\n",
              "    }\n",
              "\n",
              "    .dataframe tbody tr th {\n",
              "        vertical-align: top;\n",
              "    }\n",
              "\n",
              "    .dataframe thead th {\n",
              "        text-align: right;\n",
              "    }\n",
              "</style>\n",
              "<table border=\"1\" class=\"dataframe\">\n",
              "  <thead>\n",
              "    <tr style=\"text-align: right;\">\n",
              "      <th></th>\n",
              "      <th>Name</th>\n",
              "      <th>Age</th>\n",
              "    </tr>\n",
              "  </thead>\n",
              "  <tbody>\n",
              "    <tr>\n",
              "      <th>0</th>\n",
              "      <td>Braund, Mr. Owen Harris</td>\n",
              "      <td>22.0</td>\n",
              "    </tr>\n",
              "    <tr>\n",
              "      <th>1</th>\n",
              "      <td>Cumings, Mrs. John Bradley (Florence Briggs Th...</td>\n",
              "      <td>38.0</td>\n",
              "    </tr>\n",
              "    <tr>\n",
              "      <th>2</th>\n",
              "      <td>Heikkinen, Miss. Laina</td>\n",
              "      <td>26.0</td>\n",
              "    </tr>\n",
              "    <tr>\n",
              "      <th>3</th>\n",
              "      <td>Futrelle, Mrs. Jacques Heath (Lily May Peel)</td>\n",
              "      <td>35.0</td>\n",
              "    </tr>\n",
              "    <tr>\n",
              "      <th>4</th>\n",
              "      <td>Allen, Mr. William Henry</td>\n",
              "      <td>35.0</td>\n",
              "    </tr>\n",
              "    <tr>\n",
              "      <th>5</th>\n",
              "      <td>Moran, Mr. James</td>\n",
              "      <td>28.0</td>\n",
              "    </tr>\n",
              "    <tr>\n",
              "      <th>6</th>\n",
              "      <td>McCarthy, Mr. Timothy J</td>\n",
              "      <td>54.0</td>\n",
              "    </tr>\n",
              "    <tr>\n",
              "      <th>7</th>\n",
              "      <td>Palsson, Master. Gosta Leonard</td>\n",
              "      <td>2.0</td>\n",
              "    </tr>\n",
              "    <tr>\n",
              "      <th>8</th>\n",
              "      <td>Johnson, Mrs. Oscar W (Elisabeth Vilhelmina Berg)</td>\n",
              "      <td>27.0</td>\n",
              "    </tr>\n",
              "    <tr>\n",
              "      <th>9</th>\n",
              "      <td>Nasser, Mrs. Nicholas (Adele Achem)</td>\n",
              "      <td>14.0</td>\n",
              "    </tr>\n",
              "  </tbody>\n",
              "</table>\n",
              "</div>\n",
              "    <div class=\"colab-df-buttons\">\n",
              "\n",
              "  <div class=\"colab-df-container\">\n",
              "    <button class=\"colab-df-convert\" onclick=\"convertToInteractive('df-33ee548f-e241-4d60-8ee3-89f9b8d90d95')\"\n",
              "            title=\"Convert this dataframe to an interactive table.\"\n",
              "            style=\"display:none;\">\n",
              "\n",
              "  <svg xmlns=\"http://www.w3.org/2000/svg\" height=\"24px\" viewBox=\"0 -960 960 960\">\n",
              "    <path d=\"M120-120v-720h720v720H120Zm60-500h600v-160H180v160Zm220 220h160v-160H400v160Zm0 220h160v-160H400v160ZM180-400h160v-160H180v160Zm440 0h160v-160H620v160ZM180-180h160v-160H180v160Zm440 0h160v-160H620v160Z\"/>\n",
              "  </svg>\n",
              "    </button>\n",
              "\n",
              "  <style>\n",
              "    .colab-df-container {\n",
              "      display:flex;\n",
              "      gap: 12px;\n",
              "    }\n",
              "\n",
              "    .colab-df-convert {\n",
              "      background-color: #E8F0FE;\n",
              "      border: none;\n",
              "      border-radius: 50%;\n",
              "      cursor: pointer;\n",
              "      display: none;\n",
              "      fill: #1967D2;\n",
              "      height: 32px;\n",
              "      padding: 0 0 0 0;\n",
              "      width: 32px;\n",
              "    }\n",
              "\n",
              "    .colab-df-convert:hover {\n",
              "      background-color: #E2EBFA;\n",
              "      box-shadow: 0px 1px 2px rgba(60, 64, 67, 0.3), 0px 1px 3px 1px rgba(60, 64, 67, 0.15);\n",
              "      fill: #174EA6;\n",
              "    }\n",
              "\n",
              "    .colab-df-buttons div {\n",
              "      margin-bottom: 4px;\n",
              "    }\n",
              "\n",
              "    [theme=dark] .colab-df-convert {\n",
              "      background-color: #3B4455;\n",
              "      fill: #D2E3FC;\n",
              "    }\n",
              "\n",
              "    [theme=dark] .colab-df-convert:hover {\n",
              "      background-color: #434B5C;\n",
              "      box-shadow: 0px 1px 3px 1px rgba(0, 0, 0, 0.15);\n",
              "      filter: drop-shadow(0px 1px 2px rgba(0, 0, 0, 0.3));\n",
              "      fill: #FFFFFF;\n",
              "    }\n",
              "  </style>\n",
              "\n",
              "    <script>\n",
              "      const buttonEl =\n",
              "        document.querySelector('#df-33ee548f-e241-4d60-8ee3-89f9b8d90d95 button.colab-df-convert');\n",
              "      buttonEl.style.display =\n",
              "        google.colab.kernel.accessAllowed ? 'block' : 'none';\n",
              "\n",
              "      async function convertToInteractive(key) {\n",
              "        const element = document.querySelector('#df-33ee548f-e241-4d60-8ee3-89f9b8d90d95');\n",
              "        const dataTable =\n",
              "          await google.colab.kernel.invokeFunction('convertToInteractive',\n",
              "                                                    [key], {});\n",
              "        if (!dataTable) return;\n",
              "\n",
              "        const docLinkHtml = 'Like what you see? Visit the ' +\n",
              "          '<a target=\"_blank\" href=https://colab.research.google.com/notebooks/data_table.ipynb>data table notebook</a>'\n",
              "          + ' to learn more about interactive tables.';\n",
              "        element.innerHTML = '';\n",
              "        dataTable['output_type'] = 'display_data';\n",
              "        await google.colab.output.renderOutput(dataTable, element);\n",
              "        const docLink = document.createElement('div');\n",
              "        docLink.innerHTML = docLinkHtml;\n",
              "        element.appendChild(docLink);\n",
              "      }\n",
              "    </script>\n",
              "  </div>\n",
              "\n",
              "\n",
              "<div id=\"df-21d0309c-f662-4107-84e7-aa608761ee91\">\n",
              "  <button class=\"colab-df-quickchart\" onclick=\"quickchart('df-21d0309c-f662-4107-84e7-aa608761ee91')\"\n",
              "            title=\"Suggest charts\"\n",
              "            style=\"display:none;\">\n",
              "\n",
              "<svg xmlns=\"http://www.w3.org/2000/svg\" height=\"24px\"viewBox=\"0 0 24 24\"\n",
              "     width=\"24px\">\n",
              "    <g>\n",
              "        <path d=\"M19 3H5c-1.1 0-2 .9-2 2v14c0 1.1.9 2 2 2h14c1.1 0 2-.9 2-2V5c0-1.1-.9-2-2-2zM9 17H7v-7h2v7zm4 0h-2V7h2v10zm4 0h-2v-4h2v4z\"/>\n",
              "    </g>\n",
              "</svg>\n",
              "  </button>\n",
              "\n",
              "<style>\n",
              "  .colab-df-quickchart {\n",
              "      --bg-color: #E8F0FE;\n",
              "      --fill-color: #1967D2;\n",
              "      --hover-bg-color: #E2EBFA;\n",
              "      --hover-fill-color: #174EA6;\n",
              "      --disabled-fill-color: #AAA;\n",
              "      --disabled-bg-color: #DDD;\n",
              "  }\n",
              "\n",
              "  [theme=dark] .colab-df-quickchart {\n",
              "      --bg-color: #3B4455;\n",
              "      --fill-color: #D2E3FC;\n",
              "      --hover-bg-color: #434B5C;\n",
              "      --hover-fill-color: #FFFFFF;\n",
              "      --disabled-bg-color: #3B4455;\n",
              "      --disabled-fill-color: #666;\n",
              "  }\n",
              "\n",
              "  .colab-df-quickchart {\n",
              "    background-color: var(--bg-color);\n",
              "    border: none;\n",
              "    border-radius: 50%;\n",
              "    cursor: pointer;\n",
              "    display: none;\n",
              "    fill: var(--fill-color);\n",
              "    height: 32px;\n",
              "    padding: 0;\n",
              "    width: 32px;\n",
              "  }\n",
              "\n",
              "  .colab-df-quickchart:hover {\n",
              "    background-color: var(--hover-bg-color);\n",
              "    box-shadow: 0 1px 2px rgba(60, 64, 67, 0.3), 0 1px 3px 1px rgba(60, 64, 67, 0.15);\n",
              "    fill: var(--button-hover-fill-color);\n",
              "  }\n",
              "\n",
              "  .colab-df-quickchart-complete:disabled,\n",
              "  .colab-df-quickchart-complete:disabled:hover {\n",
              "    background-color: var(--disabled-bg-color);\n",
              "    fill: var(--disabled-fill-color);\n",
              "    box-shadow: none;\n",
              "  }\n",
              "\n",
              "  .colab-df-spinner {\n",
              "    border: 2px solid var(--fill-color);\n",
              "    border-color: transparent;\n",
              "    border-bottom-color: var(--fill-color);\n",
              "    animation:\n",
              "      spin 1s steps(1) infinite;\n",
              "  }\n",
              "\n",
              "  @keyframes spin {\n",
              "    0% {\n",
              "      border-color: transparent;\n",
              "      border-bottom-color: var(--fill-color);\n",
              "      border-left-color: var(--fill-color);\n",
              "    }\n",
              "    20% {\n",
              "      border-color: transparent;\n",
              "      border-left-color: var(--fill-color);\n",
              "      border-top-color: var(--fill-color);\n",
              "    }\n",
              "    30% {\n",
              "      border-color: transparent;\n",
              "      border-left-color: var(--fill-color);\n",
              "      border-top-color: var(--fill-color);\n",
              "      border-right-color: var(--fill-color);\n",
              "    }\n",
              "    40% {\n",
              "      border-color: transparent;\n",
              "      border-right-color: var(--fill-color);\n",
              "      border-top-color: var(--fill-color);\n",
              "    }\n",
              "    60% {\n",
              "      border-color: transparent;\n",
              "      border-right-color: var(--fill-color);\n",
              "    }\n",
              "    80% {\n",
              "      border-color: transparent;\n",
              "      border-right-color: var(--fill-color);\n",
              "      border-bottom-color: var(--fill-color);\n",
              "    }\n",
              "    90% {\n",
              "      border-color: transparent;\n",
              "      border-bottom-color: var(--fill-color);\n",
              "    }\n",
              "  }\n",
              "</style>\n",
              "\n",
              "  <script>\n",
              "    async function quickchart(key) {\n",
              "      const quickchartButtonEl =\n",
              "        document.querySelector('#' + key + ' button');\n",
              "      quickchartButtonEl.disabled = true;  // To prevent multiple clicks.\n",
              "      quickchartButtonEl.classList.add('colab-df-spinner');\n",
              "      try {\n",
              "        const charts = await google.colab.kernel.invokeFunction(\n",
              "            'suggestCharts', [key], {});\n",
              "      } catch (error) {\n",
              "        console.error('Error during call to suggestCharts:', error);\n",
              "      }\n",
              "      quickchartButtonEl.classList.remove('colab-df-spinner');\n",
              "      quickchartButtonEl.classList.add('colab-df-quickchart-complete');\n",
              "    }\n",
              "    (() => {\n",
              "      let quickchartButtonEl =\n",
              "        document.querySelector('#df-21d0309c-f662-4107-84e7-aa608761ee91 button');\n",
              "      quickchartButtonEl.style.display =\n",
              "        google.colab.kernel.accessAllowed ? 'block' : 'none';\n",
              "    })();\n",
              "  </script>\n",
              "</div>\n",
              "\n",
              "    </div>\n",
              "  </div>\n"
            ],
            "application/vnd.google.colaboratory.intrinsic+json": {
              "type": "dataframe",
              "summary": "{\n  \"name\": \"df[['Name', 'Age']]\",\n  \"rows\": 10,\n  \"fields\": [\n    {\n      \"column\": \"Name\",\n      \"properties\": {\n        \"dtype\": \"string\",\n        \"num_unique_values\": 10,\n        \"samples\": [\n          \"Johnson, Mrs. Oscar W (Elisabeth Vilhelmina Berg)\",\n          \"Cumings, Mrs. John Bradley (Florence Briggs Thayer)\",\n          \"Moran, Mr. James\"\n        ],\n        \"semantic_type\": \"\",\n        \"description\": \"\"\n      }\n    },\n    {\n      \"column\": \"Age\",\n      \"properties\": {\n        \"dtype\": \"number\",\n        \"std\": 14.090579989640045,\n        \"min\": 2.0,\n        \"max\": 54.0,\n        \"num_unique_values\": 9,\n        \"samples\": [\n          27.0,\n          38.0,\n          54.0\n        ],\n        \"semantic_type\": \"\",\n        \"description\": \"\"\n      }\n    }\n  ]\n}"
            }
          },
          "metadata": {},
          "execution_count": 18
        }
      ]
    },
    {
      "cell_type": "markdown",
      "source": [
        "2. Untuk kolom Embarked\n",
        "\n",
        "Missing value saya isi dengan nilai modus (mode), yaitu nilai yang paling sering muncul pada kolom tersebut, karena Embarked merupakan data kategorikal."
      ],
      "metadata": {
        "id": "4l-YMNYWM3JD"
      }
    },
    {
      "cell_type": "code",
      "source": [
        "\n",
        "\n",
        "# Mengisi missing value kolom Embarked dengan modus (value terbanyak)\n",
        "df['Embarked'] = df['Embarked'].fillna(df['Embarked'].mode()[0])\n",
        "\n",
        "# Cek apakah semua missing value sudah diisi\n",
        "print(\"Missing value Embarked:\", df['Embarked'].isnull().sum())\n",
        "\n"
      ],
      "metadata": {
        "colab": {
          "base_uri": "https://localhost:8080/"
        },
        "id": "GBWeiDs2M0gq",
        "outputId": "e8bbd282-90ed-4bf2-c926-d9a10d837f5f"
      },
      "execution_count": 20,
      "outputs": [
        {
          "output_type": "stream",
          "name": "stdout",
          "text": [
            "Missing value Embarked: 0\n"
          ]
        }
      ]
    },
    {
      "cell_type": "markdown",
      "source": [
        "3. Untuk kolom cabin\n",
        "\n",
        "Karena lebih dari 70% data di kolom ini hilang, maka kolom ini dihapus karena dianggap tidak cukup informasi untuk digunakan secara efektif."
      ],
      "metadata": {
        "id": "JoXrKARMmh5S"
      }
    },
    {
      "cell_type": "code",
      "source": [
        "df.drop(columns=['Cabin'], inplace=True)\n",
        "print(df.head())\n",
        "\n"
      ],
      "metadata": {
        "colab": {
          "base_uri": "https://localhost:8080/"
        },
        "id": "TYhS9-3ums3j",
        "outputId": "d05485ad-8edf-440d-b12d-6e0d61388afa"
      },
      "execution_count": 32,
      "outputs": [
        {
          "output_type": "stream",
          "name": "stdout",
          "text": [
            "   PassengerId  Survived  Pclass  \\\n",
            "0            1         0       3   \n",
            "1            2         1       1   \n",
            "2            3         1       3   \n",
            "3            4         1       1   \n",
            "4            5         0       3   \n",
            "\n",
            "                                                Name     Sex   Age  SibSp  \\\n",
            "0                            Braund, Mr. Owen Harris    male  22.0      1   \n",
            "1  Cumings, Mrs. John Bradley (Florence Briggs Th...  female  38.0      1   \n",
            "2                             Heikkinen, Miss. Laina  female  26.0      0   \n",
            "3       Futrelle, Mrs. Jacques Heath (Lily May Peel)  female  35.0      1   \n",
            "4                           Allen, Mr. William Henry    male  35.0      0   \n",
            "\n",
            "   Parch            Ticket     Fare Embarked  \n",
            "0      0         A/5 21171   7.2500        S  \n",
            "1      0          PC 17599  71.2833        C  \n",
            "2      0  STON/O2. 3101282   7.9250        S  \n",
            "3      0            113803  53.1000        S  \n",
            "4      0            373450   8.0500        S  \n"
          ]
        }
      ]
    },
    {
      "cell_type": "markdown",
      "source": [
        "**No 2c. Apakah terdapat outlier pada data tersebut? Jelaskan apa itu outlier!**\n",
        "\n",
        "Ya ada, Outlier adalah data yang menyimpang secara ekstrem dari mayoritas data lainnya.\n",
        "Biasanya, outlier bisa mempengaruhi hasil analisis dan model, sehingga perlu kita identifikasi dan tangani.\n",
        "Biasanya, kolom numerik seperti Age, Fare, dan SibSp berpotensi mengandung outlier.\n",
        "Kita bisa mendeteksi outlier dengan:\n",
        "\n",
        "- Boxplot\n",
        "\n",
        "- IQR (Interquartile Range) method"
      ],
      "metadata": {
        "id": "BpLTU4OgPOmf"
      }
    },
    {
      "cell_type": "code",
      "source": [
        "# Dengan Boxplot (Visualisasi Outlier):\n",
        "import matplotlib.pyplot as plt\n",
        "import seaborn as sns\n",
        "\n",
        "# Visualisasi outlier kolom Fare dan Age\n",
        "plt.figure(figsize=(12, 5))\n",
        "\n",
        "plt.subplot(1, 2, 1)\n",
        "sns.boxplot(y=df['Fare'])\n",
        "plt.title(\"Boxplot Fare\")\n",
        "\n",
        "plt.subplot(1, 2, 2)\n",
        "sns.boxplot(y=df['Age'])\n",
        "plt.title(\"Boxplot Age\")\n",
        "\n",
        "plt.tight_layout()\n",
        "plt.show()\n"
      ],
      "metadata": {
        "colab": {
          "base_uri": "https://localhost:8080/",
          "height": 276
        },
        "id": "TAy72iWYPs-6",
        "outputId": "c076e10b-93d2-4905-d0dc-aee9360ad3a0"
      },
      "execution_count": 85,
      "outputs": [
        {
          "output_type": "display_data",
          "data": {
            "text/plain": [
              "<Figure size 1200x500 with 2 Axes>"
            ],
            "image/png": "[encoded data removed]"
          },
          "metadata": {}
        }
      ]
    },
    {
      "cell_type": "code",
      "source": [
        "# Deteksi outlier kolom 'Fare' dengan metode IQR\n",
        "Q1 = df['Fare'].quantile(0.25)\n",
        "Q3 = df['Fare'].quantile(0.75)\n",
        "IQR = Q3 - Q1\n",
        "\n",
        "# Ambil baris yang merupakan outlier\n",
        "fare_outliers = df[(df['Fare'] < (Q1 - 1.5 * IQR)) | (df['Fare'] > (Q3 + 1.5 * IQR))]\n",
        "\n",
        "# Tampilkan hasil outlier\n",
        "print(fare_outliers)"
      ],
      "metadata": {
        "colab": {
          "base_uri": "https://localhost:8080/"
        },
        "id": "U2fpN5iVQLRM",
        "outputId": "c4d30919-c0e9-424d-e4ae-9ba83b4c239d"
      },
      "execution_count": 34,
      "outputs": [
        {
          "output_type": "stream",
          "name": "stdout",
          "text": [
            "     PassengerId  Survived  Pclass  \\\n",
            "1              2         1       1   \n",
            "27            28         0       1   \n",
            "31            32         1       1   \n",
            "34            35         0       1   \n",
            "52            53         1       1   \n",
            "..           ...       ...     ...   \n",
            "846          847         0       3   \n",
            "849          850         1       1   \n",
            "856          857         1       1   \n",
            "863          864         0       3   \n",
            "879          880         1       1   \n",
            "\n",
            "                                                  Name     Sex   Age  SibSp  \\\n",
            "1    Cumings, Mrs. John Bradley (Florence Briggs Th...  female  38.0      1   \n",
            "27                      Fortune, Mr. Charles Alexander    male  19.0      3   \n",
            "31      Spencer, Mrs. William Augustus (Marie Eugenie)  female   NaN      1   \n",
            "34                             Meyer, Mr. Edgar Joseph    male  28.0      1   \n",
            "52            Harper, Mrs. Henry Sleeper (Myna Haxtun)  female  49.0      1   \n",
            "..                                                 ...     ...   ...    ...   \n",
            "846                           Sage, Mr. Douglas Bullen    male   NaN      8   \n",
            "849       Goldenberg, Mrs. Samuel L (Edwiga Grabowska)  female   NaN      1   \n",
            "856         Wick, Mrs. George Dennick (Mary Hitchcock)  female  45.0      1   \n",
            "863                  Sage, Miss. Dorothy Edith \"Dolly\"  female   NaN      8   \n",
            "879      Potter, Mrs. Thomas Jr (Lily Alexenia Wilson)  female  56.0      0   \n",
            "\n",
            "     Parch    Ticket      Fare Embarked  \n",
            "1        0  PC 17599   71.2833        C  \n",
            "27       2     19950  263.0000        S  \n",
            "31       0  PC 17569  146.5208        C  \n",
            "34       0  PC 17604   82.1708        C  \n",
            "52       0  PC 17572   76.7292        C  \n",
            "..     ...       ...       ...      ...  \n",
            "846      2  CA. 2343   69.5500        S  \n",
            "849      0     17453   89.1042        C  \n",
            "856      1     36928  164.8667        S  \n",
            "863      2  CA. 2343   69.5500        S  \n",
            "879      1     11767   83.1583        C  \n",
            "\n",
            "[116 rows x 11 columns]\n"
          ]
        }
      ]
    },
    {
      "cell_type": "markdown",
      "source": [
        "2 d. Apakah outlier pada data tersebut perlu di atasi serta bagaimana mengatasinya?\n",
        "\n",
        "Ya perlu di atasi, dengan metode IQR dan melakukan trimming (menghapus data yang berada di luar batas bawah dan atas)."
      ],
      "metadata": {
        "id": "kYkgV50_taHB"
      }
    },
    {
      "cell_type": "code",
      "source": [
        "# Hitung kuartil dan IQR\n",
        "q1 = df['Fare'].quantile(0.25)\n",
        "q3 = df['Fare'].quantile(0.75)\n",
        "iqr = q3 - q1\n",
        "\n",
        "# Hitung batas bawah dan atas\n",
        "batas_bawah = q1 - 1.5 * iqr\n",
        "batas_atas = q3 + 1.5 * iqr\n",
        "\n",
        "# Tampilkan jumlah baris sebelum menghapus outlier\n",
        "print(\"Jumlah data sebelum trimming:\", len(df))\n",
        "\n",
        "# Trimming: hapus baris yang mengandung outlier\n",
        "df = df[(df['Fare'] >= batas_bawah) & (df['Fare'] <= batas_atas)]\n",
        "\n",
        "# Tampilkan jumlah baris setelah trimming\n",
        "print(\"Jumlah data setelah trimming:\", len(df))\n",
        "\n",
        "# Tampilkan 5 baris pertama untuk cek hasilnya\n",
        "print(df[['Fare']].head())\n",
        "\n",
        "# (Opsional) Visualisasi distribusi Fare setelah trimming\n",
        "import seaborn as sns\n",
        "plt.figure(figsize=(8,4))\n",
        "sns.histplot(df['Fare'], bins=30, kde=True)\n",
        "plt.title(\"Distribusi Fare Setelah Trimming\")\n",
        "plt.xlabel(\"Fare\")\n",
        "plt.ylabel(\"Jumlah\")\n",
        "plt.show()\n",
        "\n"
      ],
      "metadata": {
        "colab": {
          "base_uri": "https://localhost:8080/",
          "height": 512
        },
        "id": "DzSE9mLaQu1G",
        "outputId": "9e47d04a-c84b-4427-e745-d02e8d63ae26"
      },
      "execution_count": 36,
      "outputs": [
        {
          "output_type": "stream",
          "name": "stdout",
          "text": [
            "Jumlah data sebelum trimming: 775\n",
            "Jumlah data setelah trimming: 750\n",
            "      Fare\n",
            "0   7.2500\n",
            "2   7.9250\n",
            "3  53.1000\n",
            "4   8.0500\n",
            "5   8.4583\n"
          ]
        },
        {
          "output_type": "display_data",
          "data": {
            "text/plain": [
              "<Figure size 800x400 with 1 Axes>"
            ],
            "image/png": "[encoded data removed]"
          },
          "metadata": {}
        }
      ]
    },
    {
      "cell_type": "markdown",
      "source": [
        "**2e. Jika dibutuhkan silahkan lakukan transformasi /standarisasi /scalling tergadap data tersebut?**\n"
      ],
      "metadata": {
        "id": "2fzmVi7nTmB1"
      }
    },
    {
      "cell_type": "code",
      "source": [
        "import pandas as pd\n",
        "\n",
        "# Contoh: Membaca DataFrame dari file CSV (ganti 'nama_file.csv' dengan nama file Anda)\n",
        "# Jika DataFrame Anda sudah ada, Anda bisa melewati baris ini.\n",
        "try:\n",
        "    df = pd.read_csv('/content/Titanic-Dataset.csv')\n",
        "    print(\"DataFrame berhasil dibaca.\")\n",
        "except FileNotFoundError:\n",
        "    print(\"File '/content/Titanic-Dataset.csv'\")\n",
        "    # Membuat DataFrame contoh jika file tidak ditemukan\n",
        "    data = {'PassengerId': [1, 2, 3, 4, 5],\n",
        "            'Sex': ['male', 'female', 'female', 'male', 'male'],\n",
        "            'Embarked': ['S', 'C', 'S', 'Q', 'S']}\n",
        "    df = pd.DataFrame(data)\n",
        "    print(\"\\nMembuat DataFrame contoh:\")\n",
        "    print(df)\n",
        "\n",
        "# 1. Transformasi kolom 'Sex'\n",
        "df['Sex'] = df['Sex'].map({'male': 0, 'female': 1})\n",
        "print(\"\\nKolom 'Sex' setelah transformasi:\")\n",
        "print(df[['Sex']].head())\n",
        "\n",
        "# 2. Transformasi kolom 'Embarked'\n",
        "df['Embarked'] = df['Embarked'].map({'S': 0, 'C': 1, 'Q': 2})\n",
        "print(\"\\nKolom 'Embarked' setelah transformasi:\")\n",
        "print(df[['Embarked']].head())\n",
        "\n",
        "# Menampilkan seluruh DataFrame setelah transformasi\n",
        "print(\"\\nSeluruh DataFrame setelah transformasi:\")\n",
        "print(df.head())\n",
        "\n",
        "# Informasi tambahan: Menangani nilai NaN (jika ada di kolom 'Embarked')\n",
        "print(\"\\nJumlah nilai NaN di kolom 'Embarked' sebelum penanganan:\")\n",
        "print(df['Embarked'].isnull().sum())\n",
        "\n",
        "# Contoh penanganan nilai NaN: mengisi dengan nilai yang paling sering muncul (modus)\n",
        "if df['Embarked'].isnull().sum() > 0:\n",
        "    modus_embarked = df['Embarked'].mode()[0]\n",
        "    df['Embarked'].fillna(modus_embarked, inplace=True)\n",
        "    print(\"\\nNilai NaN di kolom 'Embarked' telah diisi dengan modus (\", modus_embarked, \").\")\n",
        "    print(\"Jumlah nilai NaN di kolom 'Embarked' setelah penanganan:\")\n",
        "    print(df['Embarked'].isnull().sum())\n",
        "\n",
        "print(\"\\nDataFrame setelah penanganan nilai NaN di kolom 'Embarked':\")\n",
        "print(df[['Embarked']].head())"
      ],
      "metadata": {
        "colab": {
          "base_uri": "https://localhost:8080/"
        },
        "id": "2eKP_hvdRCzS",
        "outputId": "a02c58f0-b493-448d-fab1-ea4a6b3d23d6"
      },
      "execution_count": 37,
      "outputs": [
        {
          "output_type": "stream",
          "name": "stdout",
          "text": [
            "DataFrame berhasil dibaca.\n",
            "\n",
            "Kolom 'Sex' setelah transformasi:\n",
            "   Sex\n",
            "0    0\n",
            "1    1\n",
            "2    1\n",
            "3    1\n",
            "4    0\n",
            "\n",
            "Kolom 'Embarked' setelah transformasi:\n",
            "   Embarked\n",
            "0       0.0\n",
            "1       1.0\n",
            "2       0.0\n",
            "3       0.0\n",
            "4       0.0\n",
            "\n",
            "Seluruh DataFrame setelah transformasi:\n",
            "   PassengerId  Survived  Pclass  \\\n",
            "0            1         0       3   \n",
            "1            2         1       1   \n",
            "2            3         1       3   \n",
            "3            4         1       1   \n",
            "4            5         0       3   \n",
            "\n",
            "                                                Name  Sex   Age  SibSp  Parch  \\\n",
            "0                            Braund, Mr. Owen Harris    0  22.0      1      0   \n",
            "1  Cumings, Mrs. John Bradley (Florence Briggs Th...    1  38.0      1      0   \n",
            "2                             Heikkinen, Miss. Laina    1  26.0      0      0   \n",
            "3       Futrelle, Mrs. Jacques Heath (Lily May Peel)    1  35.0      1      0   \n",
            "4                           Allen, Mr. William Henry    0  35.0      0      0   \n",
            "\n",
            "             Ticket     Fare Cabin  Embarked  \n",
            "0         A/5 21171   7.2500   NaN       0.0  \n",
            "1          PC 17599  71.2833   C85       1.0  \n",
            "2  STON/O2. 3101282   7.9250   NaN       0.0  \n",
            "3            113803  53.1000  C123       0.0  \n",
            "4            373450   8.0500   NaN       0.0  \n",
            "\n",
            "Jumlah nilai NaN di kolom 'Embarked' sebelum penanganan:\n",
            "2\n",
            "\n",
            "Nilai NaN di kolom 'Embarked' telah diisi dengan modus ( 0.0 ).\n",
            "Jumlah nilai NaN di kolom 'Embarked' setelah penanganan:\n",
            "0\n",
            "\n",
            "DataFrame setelah penanganan nilai NaN di kolom 'Embarked':\n",
            "   Embarked\n",
            "0       0.0\n",
            "1       1.0\n",
            "2       0.0\n",
            "3       0.0\n",
            "4       0.0\n"
          ]
        },
        {
          "output_type": "stream",
          "name": "stderr",
          "text": [
            "<ipython-input-37-c29bc1f8344b>:39: FutureWarning: A value is trying to be set on a copy of a DataFrame or Series through chained assignment using an inplace method.\n",
            "The behavior will change in pandas 3.0. This inplace method will never work because the intermediate object on which we are setting values always behaves as a copy.\n",
            "\n",
            "For example, when doing 'df[col].method(value, inplace=True)', try using 'df.method({col: value}, inplace=True)' or df[col] = df[col].method(value) instead, to perform the operation inplace on the original object.\n",
            "\n",
            "\n",
            "  df['Embarked'].fillna(modus_embarked, inplace=True)\n"
          ]
        }
      ]
    },
    {
      "cell_type": "code",
      "source": [
        "# === 3. Modelling ===\n",
        "from sklearn.model_selection import train_test_split\n",
        "from sklearn.preprocessing import StandardScaler\n",
        "from sklearn.linear_model import LogisticRegression\n",
        "from sklearn.tree import DecisionTreeClassifier\n",
        "from sklearn.ensemble import RandomForestClassifier\n",
        "from sklearn.metrics import classification_report, confusion_matrix"
      ],
      "metadata": {
        "id": "03_i_1N3UPLN"
      },
      "execution_count": 39,
      "outputs": []
    },
    {
      "cell_type": "markdown",
      "source": [
        "**3 a.jelaskan proses pembagian data menjadi data training dan testing dan alasan mengapa perlu membagi dua tersebut?**\n",
        "\n",
        "Proses Pembagian Data:\n",
        "\n",
        "Pembagian data dilakukan dengan membagi dataset menjadi dua bagian:\n",
        "\n",
        "1. Data Training (misalnya 80%) digunakan untuk melatih model agar bisa mengenali pola dari data.\n",
        "\n",
        "2. Data Testing (misalnya 20%) digunakan untuk mengukur performa model terhadap data baru yang belum pernah dilihat sebelumnya.\n",
        "\n",
        "**Alasan Pembagian Data:**\n",
        "\n",
        "Tujuan utama membagi data adalah untuk menghindari overfitting, yaitu kondisi ketika model hanya bagus pada data latihan tapi buruk saat diuji pada data baru. Dengan data testing, kita bisa melihat apakah model benar-benar bisa melakukan generalisasi."
      ],
      "metadata": {
        "id": "XiAVYx4IVflD"
      }
    },
    {
      "cell_type": "markdown",
      "source": [],
      "metadata": {
        "id": "yM0yzo8fVW7P"
      }
    },
    {
      "cell_type": "code",
      "source": [
        "from sklearn.model_selection import train_test_split\n",
        "from sklearn.preprocessing import LabelEncoder\n",
        "\n",
        "# Pilih fitur dan target\n",
        "X = df[['Pclass', 'Sex', 'Age', 'SibSp', 'Parch', 'Fare']]\n",
        "y = df['Survived']\n",
        "\n",
        "X.loc[:, 'Age'] = X['Age'].fillna(X['Age'].median())\n",
        "X.loc[:, 'Sex'] = LabelEncoder().fit_transform(X['Sex'])\n",
        "\n",
        "\n",
        "\n",
        "# Split data (80% train, 20% test)\n",
        "X_train, X_test, y_train, y_test = train_test_split(X, y, test_size=0.2, random_state=42)\n",
        "\n",
        "# Tampilkan hasil\n",
        "print(\"Jumlah data training:\", len(X_train))\n",
        "print(\"Jumlah data testing:\", len(X_test))\n",
        "print(\"Contoh data training:\")\n",
        "print(X_train.head())"
      ],
      "metadata": {
        "colab": {
          "base_uri": "https://localhost:8080/"
        },
        "id": "DuORhg-0UZVS",
        "outputId": "80d171f5-e717-4041-8c21-eebaa97985c8"
      },
      "execution_count": 42,
      "outputs": [
        {
          "output_type": "stream",
          "name": "stdout",
          "text": [
            "Jumlah data training: 712\n",
            "Jumlah data testing: 179\n",
            "Contoh data training:\n",
            "     Pclass  Sex   Age  SibSp  Parch     Fare\n",
            "331       1    0  45.5      0      0  28.5000\n",
            "733       2    0  23.0      0      0  13.0000\n",
            "382       3    0  32.0      0      0   7.9250\n",
            "704       3    0  26.0      1      0   7.8542\n",
            "813       3    1   6.0      4      2  31.2750\n"
          ]
        }
      ]
    },
    {
      "cell_type": "markdown",
      "source": [
        "**3 B. berapa persen pembagiannya ? mrngapa memilih membagi dengan prporsi tersebut?**\n",
        "Dalam kode test_size=0.2, data dibagi menjadi 80% untuk pelatihan dan 20% untuk pengujian.\n",
        "\n",
        "**Mengapa Memilih Proporsi Tersebut:**\n",
        "\n",
        "\n",
        "Proporsi 80/20 adalah titik awal yang umum untuk mencapai keseimbangan antara:\n",
        "\n",
        "1. Cukup data untuk melatih model agar dapat mempelajari pola dengan baik.\n",
        "2. Cukup data untuk mengevaluasi performa model secara andal pada data yang belum dilihat, sehingga mencegah overfitting dan memberikan gambaran generalisasi yang baik.\n",
        "\n",
        "Meskipun 80/20 adalah pilihan yang sering digunakan, proporsi optimal dapat bervariasi tergantung pada ukuran dan karakteristik spesifik dataset."
      ],
      "metadata": {
        "id": "ynEnHaY2XiNC"
      }
    },
    {
      "cell_type": "markdown",
      "source": [
        "**3 C. buatlah model klasifikasi dari 3 algoritma yang berbeda. jelaskan masing masing model dan cara kerjanya**\n",
        "\n",
        "**1. Logistic Regression**\n",
        "\n",
        "**Penjelasan Singkat**: Model linier untuk klasifikasi biner (0 atau 1) yang memprediksi probabilitas suatu instance termasuk dalam kelas positif.\n",
        "\n",
        "**Cara Kerja:**\n",
        "1. Menghitung kombinasi linier fitur.\n",
        "2. Menerapkan fungsi sigmoid untuk menghasilkan probabilitas (nilai antara 0 dan 1).\n",
        "3. Membandingkan probabilitas dengan threshold (biasanya 0.5) untuk menentukan kelas prediksi.\n",
        "4. Model dilatih untuk menemukan koefisien yang meminimalkan kesalahan prediksi pada data pelatihan.\n",
        "\n",
        "**2. K-Nearest Neighbors (KNN)**\n",
        "\n",
        "**Penjelasan Singkat:** Algoritma non-parametrik yang mengklasifikasikan instance baru berdasarkan kelas mayoritas dari k tetangga terdekatnya dalam data pelatihan.\n",
        "\n",
        "**Cara Kerja:**\n",
        "1. Menentukan jumlah tetangga terdekat (k).\n",
        "2. Menghitung jarak antara instance baru dan semua instance pelatihan.\n",
        "3. Memilih k instance pelatihan dengan jarak terkecil.\n",
        "4. Memprediksi kelas instance baru berdasarkan kelas yang paling sering muncul di antara k tetangga tersebut.\n",
        "\n",
        "**3. Support Vector Machine (SVM)**\n",
        "\n",
        "**Penjelasan Singkat:** Algoritma klasifikasi yang mencari hyperplane optimal untuk memisahkan data antar kelas dengan margin terbesar. Efektif untuk data linier maupun non-linier (dengan kernel trick).\n",
        "\n",
        "**Cara Kerja:**\n",
        "1. Mencari hyperplane yang memisahkan kelas-kelas.\n",
        "2. Bertujuan memaksimalkan margin (jarak antara hyperplane dan instance terdekat dari setiap kelas, disebut support vectors).\n",
        "Untuk data non-linier, menggunakan fungsi kernel untuk memetakan data ke ruang dimensi lebih tinggi agar dapat dipisahkan secara linier."
      ],
      "metadata": {
        "id": "XYJhAht3ZrCX"
      }
    },
    {
      "cell_type": "code",
      "source": [
        "from sklearn.linear_model import LogisticRegression\n",
        "from sklearn.ensemble import RandomForestClassifier\n",
        "from sklearn.neighbors import KNeighborsClassifier\n",
        "from sklearn.metrics import accuracy_score, confusion_matrix, classification_report\n",
        "\n",
        "# --- 1. Logistic Regression ---\n",
        "logreg = LogisticRegression()\n",
        "logreg.fit(X_train, y_train)\n",
        "y_pred_logreg = logreg.predict(X_test)\n",
        "\n",
        "print(\"=== Logistic Regression ===\")\n",
        "print(\"Akurasi :\", accuracy_score(y_test, y_pred_logreg))\n",
        "print(\"Confusion Matrix:\\n\", confusion_matrix(y_test, y_pred_logreg))\n",
        "print(\"Classification Report:\\n\", classification_report(y_test, y_pred_logreg))\n",
        "\n",
        "# --- 2. Random Forest ---\n",
        "rf = RandomForestClassifier()\n",
        "rf.fit(X_train, y_train)\n",
        "y_pred_rf = rf.predict(X_test)\n",
        "\n",
        "print(\"\\n=== Random Forest ===\")\n",
        "print(\"Akurasi :\", accuracy_score(y_test, y_pred_rf))\n",
        "print(\"Confusion Matrix:\\n\", confusion_matrix(y_test, y_pred_rf))\n",
        "print(\"Classification Report:\\n\", classification_report(y_test, y_pred_rf))\n",
        "\n",
        "# --- 3. K-Nearest Neighbors ---\n",
        "knn = KNeighborsClassifier()\n",
        "knn.fit(X_train, y_train)\n",
        "y_pred_knn = knn.predict(X_test)\n",
        "\n",
        "print(\"\\n=== K-Nearest Neighbors ===\")\n",
        "print(\"Akurasi :\", accuracy_score(y_test, y_pred_knn))\n",
        "print(\"Confusion Matrix:\\n\", confusion_matrix(y_test, y_pred_knn))\n",
        "print(\"Classification Report:\\n\", classification_report(y_test, y_pred_knn))\n"
      ],
      "metadata": {
        "colab": {
          "base_uri": "https://localhost:8080/"
        },
        "id": "wfnrOTRIZDjG",
        "outputId": "4378c355-4041-4e82-a9b1-26e519faf3f6"
      },
      "execution_count": 43,
      "outputs": [
        {
          "output_type": "stream",
          "name": "stdout",
          "text": [
            "=== Logistic Regression ===\n",
            "Akurasi : 0.8100558659217877\n",
            "Confusion Matrix:\n",
            " [[92 13]\n",
            " [21 53]]\n",
            "Classification Report:\n",
            "               precision    recall  f1-score   support\n",
            "\n",
            "           0       0.81      0.88      0.84       105\n",
            "           1       0.80      0.72      0.76        74\n",
            "\n",
            "    accuracy                           0.81       179\n",
            "   macro avg       0.81      0.80      0.80       179\n",
            "weighted avg       0.81      0.81      0.81       179\n",
            "\n",
            "\n",
            "=== Random Forest ===\n",
            "Akurasi : 0.8156424581005587\n",
            "Confusion Matrix:\n",
            " [[90 15]\n",
            " [18 56]]\n",
            "Classification Report:\n",
            "               precision    recall  f1-score   support\n",
            "\n",
            "           0       0.83      0.86      0.85       105\n",
            "           1       0.79      0.76      0.77        74\n",
            "\n",
            "    accuracy                           0.82       179\n",
            "   macro avg       0.81      0.81      0.81       179\n",
            "weighted avg       0.81      0.82      0.82       179\n",
            "\n",
            "\n",
            "=== K-Nearest Neighbors ===\n",
            "Akurasi : 0.6871508379888268\n",
            "Confusion Matrix:\n",
            " [[84 21]\n",
            " [35 39]]\n",
            "Classification Report:\n",
            "               precision    recall  f1-score   support\n",
            "\n",
            "           0       0.71      0.80      0.75       105\n",
            "           1       0.65      0.53      0.58        74\n",
            "\n",
            "    accuracy                           0.69       179\n",
            "   macro avg       0.68      0.66      0.67       179\n",
            "weighted avg       0.68      0.69      0.68       179\n",
            "\n"
          ]
        }
      ]
    },
    {
      "cell_type": "markdown",
      "source": [
        "** 3 d. Berapa nilai evaluasi dari masing- masing model pada data uji? apa arti dari masing -masing metrik evaluasi tersebut?\n",
        "\n",
        "Penjelasan metrik:\n",
        "\n",
        "- Precision: Ketepatan model dalam memprediksi \"selamat\".\n",
        "\n",
        "- Recall: Kemampuan model menemukan semua penumpang yang benar-benar selamat.\n",
        "\n",
        "- F1-score: Rata-rata harmonis dari precision dan recall."
      ],
      "metadata": {
        "id": "n1CPQgvTxT8k"
      }
    },
    {
      "cell_type": "code",
      "source": [
        "from sklearn.metrics import classification_report\n",
        "\n",
        "# Evaluasi masing-masing model\n",
        "print(\"=== Logistic Regression ===\")\n",
        "print(classification_report(y_test, logreg.predict(X_test)))\n",
        "\n",
        "print(\"=== Random Forest ===\")\n",
        "print(classification_report(y_test, rf.predict(X_test)))\n",
        "\n",
        "print(\"=== KNN ===\")\n",
        "print(classification_report(y_test, knn.predict(X_test)))\n"
      ],
      "metadata": {
        "colab": {
          "base_uri": "https://localhost:8080/"
        },
        "id": "YzxDYDQTIBlV",
        "outputId": "43609e6f-9e37-4081-b07f-682cd9ebd17c"
      },
      "execution_count": 44,
      "outputs": [
        {
          "output_type": "stream",
          "name": "stdout",
          "text": [
            "=== Logistic Regression ===\n",
            "              precision    recall  f1-score   support\n",
            "\n",
            "           0       0.81      0.88      0.84       105\n",
            "           1       0.80      0.72      0.76        74\n",
            "\n",
            "    accuracy                           0.81       179\n",
            "   macro avg       0.81      0.80      0.80       179\n",
            "weighted avg       0.81      0.81      0.81       179\n",
            "\n",
            "=== Random Forest ===\n",
            "              precision    recall  f1-score   support\n",
            "\n",
            "           0       0.83      0.86      0.85       105\n",
            "           1       0.79      0.76      0.77        74\n",
            "\n",
            "    accuracy                           0.82       179\n",
            "   macro avg       0.81      0.81      0.81       179\n",
            "weighted avg       0.81      0.82      0.82       179\n",
            "\n",
            "=== KNN ===\n",
            "              precision    recall  f1-score   support\n",
            "\n",
            "           0       0.71      0.80      0.75       105\n",
            "           1       0.65      0.53      0.58        74\n",
            "\n",
            "    accuracy                           0.69       179\n",
            "   macro avg       0.68      0.66      0.67       179\n",
            "weighted avg       0.68      0.69      0.68       179\n",
            "\n"
          ]
        }
      ]
    },
    {
      "cell_type": "markdown",
      "source": [
        "**3 e**\n",
        "\n",
        "Model Terbaik: Random Forest\n",
        "Alasannya:\n",
        "\n",
        "Mempunyai akurasi tertinggi (81.56%)\n",
        "\n",
        "Juga unggul di precision, recall, dan F1-score\n",
        "\n",
        "Lebih stabil dan mampu menangani fitur-fitur kompleks\n",
        "\n",
        "Tidak memerlukan asumsi linear seperti Logistic Regression"
      ],
      "metadata": {
        "id": "50IQOJuNyH5_"
      }
    },
    {
      "cell_type": "code",
      "source": [
        "from sklearn.metrics import accuracy_score, precision_score, recall_score, f1_score\n",
        "\n",
        "models = {\n",
        "    'Logistic Regression': y_pred_logreg,\n",
        "    'Random Forest': y_pred_rf,\n",
        "    'KNN': y_pred_knn\n",
        "}\n",
        "\n",
        "print(\"=== Perbandingan Model ===\")\n",
        "for name, y_pred in models.items():\n",
        "    print(f\"\\n📌 {name}\")\n",
        "    print(\"Akurasi  :\", accuracy_score(y_test, y_pred))\n",
        "    print(\"Precision:\", precision_score(y_test, y_pred, average='weighted', zero_division=0))\n",
        "    print(\"Recall   :\", recall_score(y_test, y_pred, average='weighted'))\n",
        "    print(\"F1-score :\", f1_score(y_test, y_pred, average='weighted'))\n"
      ],
      "metadata": {
        "colab": {
          "base_uri": "https://localhost:8080/"
        },
        "id": "du0CarEIytXp",
        "outputId": "b368d818-41d2-4115-c950-80e106fcb3f0"
      },
      "execution_count": 45,
      "outputs": [
        {
          "output_type": "stream",
          "name": "stdout",
          "text": [
            "=== Perbandingan Model ===\n",
            "\n",
            "📌 Logistic Regression\n",
            "Akurasi  : 0.8100558659217877\n",
            "Precision: 0.8095584809383198\n",
            "Recall   : 0.8100558659217877\n",
            "F1-score : 0.8081141041317352\n",
            "\n",
            "📌 Random Forest\n",
            "Akurasi  : 0.8156424581005587\n",
            "Precision: 0.8148949563301597\n",
            "Recall   : 0.8156424581005587\n",
            "F1-score : 0.8150336036639797\n",
            "\n",
            "📌 KNN\n",
            "Akurasi  : 0.6871508379888268\n",
            "Precision: 0.682780151166612\n",
            "Recall   : 0.6871508379888268\n",
            "F1-score : 0.6805845076294504\n"
          ]
        }
      ]
    },
    {
      "cell_type": "markdown",
      "source": [
        "4a. Berdasarkan model terbaik (misal: Random Forest)\n",
        "Misalnya output Random Forest menghasilkan:\n",
        "\n",
        "Precision (class 1/survived) = 0.83\n",
        "\n",
        "Recall (class 1/survived) = 0.79\n",
        "\n",
        "Maka jawabannya:\n",
        "\n",
        "Berdasarkan classification report model terbaik (Random Forest), nilai precision untuk penumpang yang selamat adalah 0.83 dan recall-nya adalah 0.79. Artinya, model cukup akurat dan mampu menemukan mayoritas penumpang yang selamat."
      ],
      "metadata": {
        "id": "FIPkBnK8yUxV"
      }
    },
    {
      "cell_type": "markdown",
      "source": [
        "**4 b\n",
        "- selamat_prediksi = 71\n",
        " Artinya model memprediksi ada 71 penumpang yang akan selamat.\n",
        "\n",
        "- benar_selamat = 56\n",
        " Dari 71 itu, ternyata 56 penumpang memang benar-benar selamat menurut data sebenarnya (y_test).**"
      ],
      "metadata": {
        "id": "PaubJUhfzdHc"
      }
    },
    {
      "cell_type": "code",
      "source": [
        "# Prediksi dari model terbaik (misal Random Forest)\n",
        "y_pred = rf.predict(X_test)\n",
        "\n",
        "# Berapa yang diprediksi selamat dan benar-benar selamat\n",
        "selamat_prediksi = sum(y_pred)\n",
        "benar_selamat = sum((y_pred == 1) & (y_test == 1))\n",
        "\n",
        "selamat_prediksi, benar_selamat\n"
      ],
      "metadata": {
        "colab": {
          "base_uri": "https://localhost:8080/"
        },
        "id": "lQ1dF8tJyHDJ",
        "outputId": "f8a9663f-e423-4016-b00d-ab6f273cc1d1"
      },
      "execution_count": 46,
      "outputs": [
        {
          "output_type": "execute_result",
          "data": {
            "text/plain": [
              "(np.int64(71), 56)"
            ]
          },
          "metadata": {},
          "execution_count": 46
        }
      ]
    },
    {
      "cell_type": "code",
      "source": [],
      "metadata": {
        "id": "BBn0PxnPzg1l"
      },
      "execution_count": null,
      "outputs": []
    }
  ]
}